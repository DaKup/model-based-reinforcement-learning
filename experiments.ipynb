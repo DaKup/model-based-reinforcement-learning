{
 "cells": [
  {
   "cell_type": "code",
   "metadata": {
    "pycharm": {
     "name": "#%% imports\n"
    }
   },
   "source": [
    "import numpy as np\n",
    "import tensorflow as tf\n",
    "import tensorflow.keras as keras\n",
    "import matplotlib.pyplot as plt\n",
    "import tensorboard\n"
   ],
   "execution_count": null,
   "outputs": []
  },
  {
   "cell_type": "code",
   "execution_count": null,
   "metadata": {
    "pycharm": {
     "name": "#%% settings\n"
    }
   },
   "outputs": [],
   "source": [
    "ndim = 2    # number of dimensions\n",
    "T = 500     # maximum time steps := length of each trajectory\n",
    "M = 250     # number of generated trajectories from observations of pi_explore\n"
   ]
  },
  {
   "cell_type": "code",
   "execution_count": null,
   "metadata": {
    "pycharm": {
     "name": "#%% generate trajectories (should be done using pi_explore)\n"
    }
   },
   "outputs": [],
   "source": [
    "d_min = 1   # min distance between each point\n",
    "d_max = 100 # max distance between each point\n",
    "trajectories = np.zeros(shape=(M, T, ndim), dtype=np.float)\n",
    "for m in range(M):\n",
    "    for t in range(1, T):\n",
    "        trajectories[m, t] = trajectories[m, t-1] + np.random.randint(low=d_min, high=d_max, size=ndim, dtype='l')\n"
   ]
  },
  {
   "cell_type": "code",
   "execution_count": null,
   "outputs": [],
   "source": [
    "a_v = 2 # constant factor\n",
    "a_x = 2 # constant factor\n",
    "velocity_next = lambda velocity, acceleration  : velocity + a_v * acceleration\n",
    "position_next = lambda position, velocity      : position + a_x * velocity\n"
   ],
   "metadata": {
    "collapsed": false,
    "pycharm": {
     "name": "#%% toy environment dynamics\n"
    }
   }
  },
  {
   "cell_type": "code",
   "execution_count": null,
   "outputs": [],
   "source": [
    "a_max = d_max               # maximum acceleration\n",
    "a_min = -a_max              # minimum acceleration\n",
    "a = np.zeros(shape=ndim)    # current acceleration\n"
   ],
   "metadata": {
    "collapsed": false,
    "pycharm": {
     "name": "#%% action space\n"
    }
   }
  },
  {
   "cell_type": "code",
   "execution_count": null,
   "outputs": [],
   "source": [
    "v_max = d_max                   # maximum velocity\n",
    "v_min = -v_max                  # minimum velocity\n",
    "s = np.zeros(shape=(2, ndim))   # current state\n",
    "x = s[0,:]                      # current position\n",
    "v = s[1,:]                      # current velocity\n",
    "\n"
   ],
   "metadata": {
    "collapsed": false,
    "pycharm": {
     "name": "#%% state space\n"
    }
   }
  },
  {
   "cell_type": "code",
   "execution_count": null,
   "outputs": [],
   "source": [
    "# state must also include some observation about the next target(s)\n",
    "pi_explore = lambda state : np.random.randint(low=a_min, high=a_max, size=ndim, dtype='l') # random policy\n",
    "pi = keras.Sequential([\n",
    "    keras.layers.Dense(32, input_shape=s.shape),\n",
    "    keras.layers.Activation('relu'),\n",
    "    keras.layers.Dense(a.size),\n",
    "    keras.layers.Activation('tanh') # output: [-1: 1]\n",
    "])\n"
   ],
   "metadata": {
    "collapsed": false,
    "pycharm": {
     "name": "#%% policy model (state) -> action\n"
    }
   }
  },
  {
   "cell_type": "code",
   "execution_count": null,
   "outputs": [],
   "source": [
    "f_s = keras.Sequential([\n",
    "    keras.layers.Dense(32, input_shape=np.vstack([s, a]).shape),\n",
    "    keras.layers.Activation('relu'),\n",
    "    keras.layers.Dense(s.size),\n",
    "    keras.layers.Activation('tanh') # output: [-1: 1]\n",
    "])\n"
   ],
   "metadata": {
    "collapsed": false,
    "pycharm": {
     "name": "#%% state model (state, action) -> state\n"
    }
   }
  },
  {
   "cell_type": "code",
   "execution_count": null,
   "outputs": [],
   "source": [
    "f_r = keras.Sequential([\n",
    "    keras.layers.Dense(32, input_shape=np.vstack([s, a]).shape),\n",
    "    keras.layers.Activation('relu'),\n",
    "    keras.layers.Dense(1),\n",
    "    keras.layers.Activation('tanh') # output: [-1: 1]\n",
    "])\n"
   ],
   "metadata": {
    "collapsed": false,
    "pycharm": {
     "name": "#%% reward model (state, action) -> reward\n"
    }
   }
  },
  {
   "cell_type": "code",
   "execution_count": null,
   "outputs": [],
   "source": [],
   "metadata": {
    "collapsed": false,
    "pycharm": {
     "name": "#%% generate M observations using pi_explore\n"
    }
   }
  },
  {
   "cell_type": "code",
   "execution_count": null,
   "outputs": [],
   "source": [
    "num_episodes = 1    # := epochs\n",
    "for _ in range(num_episodes):\n",
    "\n",
    "    # for each trajectory (or perhaps create mini batches # => no minibatches, because trajectories may end at different times?)\n",
    "    for trajectory in range(T):\n",
    "\n",
    "        # reset:\n",
    "        R = 0\n",
    "        r = 0\n",
    "        s = np.zeros(shape=(2, ndim))\n",
    "        a = np.zeros(shape=ndim)\n",
    "\n",
    "        # for each step:\n",
    "        for t in range(T):\n",
    "\n",
    "            # a = pi(s)\n",
    "            # r = f_r(s, a)\n",
    "            a = pi(s.reshape(-1))\n",
    "            a = pi_explore(s.reshape(-1))\n",
    "            r = f_r(np.vstack(s, a).reshape(-1))\n",
    "            R += r"
   ],
   "metadata": {
    "collapsed": false,
    "pycharm": {
     "name": "#%% training loop\n"
    }
   }
  },
  {
   "cell_type": "code",
   "execution_count": null,
   "outputs": [],
   "source": [
    "\n"
   ],
   "metadata": {
    "collapsed": false,
    "pycharm": {
     "name": "#%%\n"
    }
   }
  }
 ],
 "metadata": {
  "kernelspec": {
   "name": "pycharm-5fde42b4",
   "language": "python",
   "display_name": "PyCharm (Model-Based-Reinforcement-Learning)"
  },
  "language_info": {
   "codemirror_mode": {
    "name": "ipython",
    "version": 3
   },
   "file_extension": ".py",
   "mimetype": "text/x-python",
   "name": "python",
   "nbconvert_exporter": "python",
   "pygments_lexer": "ipython3",
   "version": "3.7.6"
  }
 },
 "nbformat": 4,
 "nbformat_minor": 1
}